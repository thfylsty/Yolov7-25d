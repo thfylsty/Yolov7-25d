{
 "cells": [
  {
   "cell_type": "code",
   "execution_count": null,
   "metadata": {
    "collapsed": true
   },
   "outputs": [],
   "source": []
  },
  {
   "cell_type": "code",
   "execution_count": 2,
   "outputs": [],
   "source": [
    "import cv2\n",
    "import numpy as np\n",
    "import os\n",
    "from tqdm import tqdm\n",
    "import json\n",
    "import shutil\n",
    "# show_image = True\n",
    "show_image = False\n",
    "from ddd_utils import draw_box_3d, project_to_image, compute_box_3d,rot_y2alpha,alpha2rot_y\n"
   ],
   "metadata": {
    "collapsed": false,
    "pycharm": {
     "name": "#%%\n"
    }
   }
  },
  {
   "cell_type": "code",
   "execution_count": null,
   "outputs": [],
   "source": [],
   "metadata": {
    "collapsed": false,
    "pycharm": {
     "name": "#%%\n"
    }
   }
  },
  {
   "cell_type": "code",
   "execution_count": null,
   "outputs": [],
   "source": [],
   "metadata": {
    "collapsed": false,
    "pycharm": {
     "name": "#%%\n"
    }
   }
  },
  {
   "cell_type": "code",
   "execution_count": 6,
   "outputs": [],
   "source": [
    "data_path = \"/home/fy/dataset/roadside/cvat/cvat114/\"\n",
    "dataname = \"roadside\"\n",
    "bags_name = os.listdir(data_path+dataname)"
   ],
   "metadata": {
    "collapsed": false,
    "pycharm": {
     "name": "#%%\n"
    }
   }
  },
  {
   "cell_type": "code",
   "execution_count": 9,
   "outputs": [],
   "source": [
    "bag_name = bags_name[0]\n",
    "bag_dir = os.path.join(data_path,dataname, bag_name)\n",
    "label_dir = \"{}/label/\".format(bag_dir)\n",
    "label_files = os.listdir(label_dir)"
   ],
   "metadata": {
    "collapsed": false,
    "pycharm": {
     "name": "#%%\n"
    }
   }
  },
  {
   "cell_type": "code",
   "execution_count": 10,
   "outputs": [
    {
     "data": {
      "text/plain": "['000186.json',\n '000144.json',\n '000092.json',\n '000243.json',\n '000111.json',\n '000123.json',\n '000315.json',\n '000242.json',\n '000191.json',\n '000011.json',\n '000172.json',\n '000160.json',\n '000262.json',\n '000030.json',\n '000150.json',\n '000138.json',\n '000028.json',\n '000126.json',\n '000164.json',\n '000275.json',\n '000304.json',\n '000036.json',\n '000230.json',\n '000121.json',\n '000017.json',\n '000095.json',\n '000257.json',\n '000261.json',\n '000290.json',\n '000059.json',\n '000042.json',\n '000231.json',\n '000280.json',\n '000256.json',\n '000277.json',\n '000053.json',\n '000068.json',\n '000298.json',\n '000307.json',\n '000238.json',\n '000026.json',\n '000161.json',\n '000099.json',\n '000190.json',\n '000107.json',\n '000286.json',\n '000122.json',\n '000018.json',\n '000247.json',\n '000054.json',\n '000041.json',\n '000225.json',\n '000239.json',\n '000209.json',\n '000322.json',\n '000051.json',\n '000183.json',\n '000321.json',\n '000148.json',\n '000301.json',\n '000196.json',\n '000115.json',\n '000320.json',\n '000112.json',\n '000143.json',\n '000250.json',\n '000116.json',\n '000182.json',\n '000102.json',\n '000295.json',\n '000311.json',\n '000233.json',\n '000226.json',\n '000101.json',\n '000156.json',\n '000021.json',\n '000117.json',\n '000329.json',\n '000251.json',\n '000316.json',\n '000201.json',\n '000061.json',\n '000159.json',\n '000086.json',\n '000288.json',\n '000170.json',\n '000264.json',\n '000060.json',\n '000108.json',\n '000057.json',\n '000010.json',\n '000236.json',\n '000249.json',\n '000136.json',\n '000088.json',\n '000327.json',\n '000224.json',\n '000202.json',\n '000058.json',\n '000203.json',\n '000055.json',\n '000234.json',\n '000173.json',\n '000279.json',\n '000070.json',\n '000132.json',\n '000193.json',\n '000066.json',\n '000022.json',\n '000287.json',\n '000000.json',\n '000064.json',\n '000043.json',\n '000282.json',\n '000178.json',\n '000204.json',\n '000168.json',\n '000049.json',\n '000078.json',\n '000163.json',\n '000073.json',\n '000266.json',\n '000125.json',\n '000188.json',\n '000227.json',\n '000091.json',\n '000317.json',\n '000106.json',\n '000165.json',\n '000151.json',\n '000177.json',\n '000007.json',\n '000303.json',\n '000071.json',\n '000223.json',\n '000048.json',\n '000083.json',\n '000103.json',\n '000252.json',\n '000145.json',\n '000027.json',\n '000037.json',\n '000063.json',\n '000274.json',\n '000133.json',\n '000184.json',\n '000035.json',\n '000265.json',\n '000206.json',\n '000081.json',\n '000012.json',\n '000128.json',\n '000009.json',\n '000174.json',\n '000044.json',\n '000293.json',\n '000272.json',\n '000310.json',\n '000094.json',\n '000260.json',\n '000019.json',\n '000181.json',\n '000324.json',\n '000169.json',\n '000062.json',\n '000079.json',\n '000152.json',\n '000120.json',\n '000069.json',\n '000207.json',\n '000211.json',\n '000308.json',\n '000292.json',\n '000299.json',\n '000082.json',\n '000100.json',\n '000015.json',\n '000198.json',\n '000087.json',\n '000157.json',\n '000284.json',\n '000215.json',\n '000008.json',\n '000237.json',\n '000217.json',\n '000166.json',\n '000154.json',\n '000137.json',\n '000024.json',\n '000269.json',\n '000245.json',\n '000199.json',\n '000297.json',\n '000214.json',\n '000253.json',\n '000140.json',\n '000195.json',\n '000013.json',\n '000003.json',\n '000110.json',\n '000248.json',\n '000325.json',\n '000065.json',\n '000232.json',\n '000050.json',\n '000309.json',\n '000281.json',\n '000096.json',\n '000306.json',\n '000032.json',\n '000153.json',\n '000134.json',\n '000218.json',\n '000114.json',\n '000039.json',\n '000240.json',\n '000314.json',\n '000005.json',\n '000090.json',\n '000109.json',\n '000268.json',\n '000119.json',\n '000067.json',\n '000219.json',\n '000105.json',\n '000016.json',\n '000077.json',\n '000139.json',\n '000167.json',\n '000289.json',\n '000180.json',\n '000023.json',\n '000146.json',\n '000135.json',\n '000004.json',\n '000197.json',\n '000244.json',\n '000216.json',\n '000273.json',\n '000001.json',\n '000192.json',\n '000072.json',\n '000040.json',\n '000175.json',\n '000276.json',\n '000130.json',\n '000046.json',\n '000147.json',\n '000142.json',\n '000033.json',\n '000258.json',\n '000129.json',\n '000158.json',\n '000189.json',\n '000267.json',\n '000047.json',\n '000294.json',\n '000179.json',\n '000080.json',\n '000254.json',\n '000326.json',\n '000124.json',\n '000200.json',\n '000056.json',\n '000278.json',\n '000113.json',\n '000006.json',\n '000045.json',\n '000093.json',\n '000194.json',\n '000222.json',\n '000085.json',\n '000291.json',\n '000118.json',\n '000246.json',\n '000283.json',\n '000076.json',\n '000221.json',\n '000255.json',\n '000263.json',\n '000212.json',\n '000149.json',\n '000319.json',\n '000052.json',\n '000025.json',\n '000171.json',\n '000259.json',\n '000185.json',\n '000074.json',\n '000155.json',\n '000097.json',\n '000141.json',\n '000176.json',\n '000241.json',\n '000104.json',\n '000318.json',\n '000296.json',\n '000213.json',\n '000235.json',\n '000020.json',\n '000208.json',\n '000323.json',\n '000084.json',\n '000187.json',\n '000228.json',\n '000098.json',\n '000302.json',\n '000305.json',\n '000312.json',\n '000313.json',\n '000285.json',\n '000300.json',\n '000270.json',\n '000002.json',\n '000271.json',\n '000162.json',\n '000034.json',\n '000075.json',\n '000229.json',\n '000210.json',\n '000038.json',\n '000131.json',\n '000220.json',\n '000089.json',\n '000127.json',\n '000328.json',\n '000014.json',\n '000031.json',\n '000029.json',\n '000205.json']"
     },
     "execution_count": 10,
     "metadata": {},
     "output_type": "execute_result"
    }
   ],
   "source": [
    "label_files"
   ],
   "metadata": {
    "collapsed": false,
    "pycharm": {
     "name": "#%%\n"
    }
   }
  },
  {
   "cell_type": "code",
   "execution_count": null,
   "outputs": [],
   "source": [],
   "metadata": {
    "collapsed": false,
    "pycharm": {
     "name": "#%%\n"
    }
   }
  },
  {
   "cell_type": "code",
   "execution_count": null,
   "outputs": [],
   "source": [],
   "metadata": {
    "collapsed": false,
    "pycharm": {
     "name": "#%%\n"
    }
   }
  },
  {
   "cell_type": "code",
   "execution_count": null,
   "outputs": [],
   "source": [],
   "metadata": {
    "collapsed": false,
    "pycharm": {
     "name": "#%%\n"
    }
   }
  },
  {
   "cell_type": "code",
   "execution_count": null,
   "outputs": [],
   "source": [],
   "metadata": {
    "collapsed": false,
    "pycharm": {
     "name": "#%%\n"
    }
   }
  },
  {
   "cell_type": "code",
   "execution_count": null,
   "outputs": [],
   "source": [],
   "metadata": {
    "collapsed": false,
    "pycharm": {
     "name": "#%%\n"
    }
   }
  },
  {
   "cell_type": "code",
   "execution_count": null,
   "outputs": [],
   "source": [],
   "metadata": {
    "collapsed": false,
    "pycharm": {
     "name": "#%%\n"
    }
   }
  },
  {
   "cell_type": "code",
   "execution_count": 4,
   "outputs": [],
   "source": [
    "def mkdir(path):\n",
    "    if not os.path.exists(path):\n",
    "        os.mkdir(path)\n",
    "\n",
    "\n",
    "def loadlabel(label_path):\n",
    "    with open(label_path) as f:\n",
    "        labels = json.load(f)\n",
    "        objs = []\n",
    "        for label in labels:\n",
    "            obj = {}\n",
    "            position = label['psr']['position']\n",
    "            rotation = label['psr']['rotation']['z']\n",
    "            scale = label['psr']['scale']\n",
    "            x, y, z = position[\"x\"], position[\"y\"], position[\"z\"]\n",
    "            xs, ys, zs = scale[\"x\"], scale[\"y\"], scale[\"z\"]\n",
    "            obj[\"obj_type\"],obj[\"obj_id\"]  = label['obj_type'],label['obj_id']\n",
    "            obj[\"box\"] = [x, y, z, xs, ys, zs, rotation]\n",
    "            objs.append(obj)\n",
    "    return objs\n",
    "\n",
    "\n",
    "def save_label(labels_list,label_path):\n",
    "    for labels in labels_list:\n",
    "        path_split = label_path.split(\"/\")\n",
    "        file_name = \"{}_c25/training/label/{}_{}_{}.txt\".format(path_split[0],path_split[1],path_split[3].split(\".\")[0],labels[1])\n",
    "        with open(file_name,\"w\") as f:\n",
    "            if len(labels[0])==0:\n",
    "                s = \"others 0 0 0 0 0 0 0 0 0 0 0 0 0 0.0\"\n",
    "                f.write(s)\n",
    "            for label in labels[0]:\n",
    "                s = \"\"\n",
    "                for l in label:\n",
    "                    s+= str(l)\n",
    "                    if not l is label[-1]:\n",
    "                        s += \" \"\n",
    "                if not label is labels[0][-1]:\n",
    "                    s += \"\\n\"\n",
    "                f.write(s)\n",
    "\n",
    "\n",
    "def save_calib(calibs,label_path):\n",
    "    for cam in calibs:\n",
    "        calib = calibs[cam]\n",
    "        s = \"P0:\"\n",
    "        for c in calib[\"intrinsic\"]:\n",
    "            s += \" \"\n",
    "            s += str(c)\n",
    "        path_split = label_path.split(\"/\")\n",
    "        file_name = \"{}_c25/training/calib/{}_{}_{}.txt\".format(path_split[0], path_split[1], path_split[3].split(\".\")[0],cam)\n",
    "        with open(file_name, \"w\") as f:\n",
    "            f.write(s)\n",
    "\n",
    "def save_image(label_path):\n",
    "    path_split = label_path.split(\"/\")\n",
    "    for cam in [\"front\",\"right\",\"left\"]:\n",
    "        source_image_path = label_path.replace(\"/label\",\"/camera/{}\".format(cam)).replace(\".json\",\".png\")\n",
    "        target_image_path = \"{}_c25/training/images/trainval{}_{}_{}.png\".format(path_split[0], path_split[1], path_split[3].split(\".\")[0],cam)\n",
    "        shutil.copy(source_image_path,target_image_path)\n",
    "\n",
    "def readcalib(bag_dir):\n",
    "    calibs={}\n",
    "    for cam in [\"front\",\"right\",\"left\"]:\n",
    "        with open(os.path.join(bag_dir,\"calib/camera/\"+cam+\".json\")) as f:\n",
    "            calib = json.load(f)\n",
    "        # calib_ex = calib[\"extrinsic\"]\n",
    "        # calib_in = calib[\"intrinsic\"]\n",
    "        calib[\"intrinsic\"].insert(4, 0.0)\n",
    "        calib[\"intrinsic\"].insert(8, 0.0)\n",
    "        calib[\"intrinsic\"].insert(12, 0.0)\n",
    "        calibs[cam]= calib\n",
    "    return calibs\n",
    "\n",
    "\n",
    "def init_dir(dataname):\n",
    "    mkdir(\"./{}_c25/\".format(dataname))\n",
    "    mkdir(\"./{}_c25/training/\".format(dataname))\n",
    "    mkdir(\"./{}_c25/training/images/\".format(dataname))\n",
    "    mkdir(\"./{}_c25/training/images/trainval\".format(dataname))\n",
    "    mkdir(\"./{}_c25/training/label/\".format(dataname))\n",
    "    mkdir(\"./{}_c25/training/calib/\".format(dataname))\n",
    "\n",
    "def get_imgs_path(label_path):\n",
    "    imgs_path = {}\n",
    "    for cam in [\"front\",\"right\",\"left\"]:\n",
    "        img_path = label_path.replace(\"label\",\"camera/{}\".format(cam)).replace(\".json\",\".png\")\n",
    "        imgs_path[cam] = img_path\n",
    "    return imgs_path\n",
    "\n",
    "# def cpimgs(dataname,bag_name,imgs_path):\n",
    "#     for cam in [\"front\",\"right\",\"left\"]:\n",
    "#         img_path =imgs_path[cam]\n",
    "#         img_name = os.path.basename(img_path)\n",
    "#         target_img_name = \"{}_{}\".format(bag_name,img_name).replace(\".png\",\"_{}.png\".format(cam))\n",
    "#         target_img_path = \"./{}_c25/training/trainval/images/{}\".format(dataname,target_img_name)\n",
    "#         shutil.copy(img_path, target_img_path)\n",
    "\n",
    "def compare_bbox(b2s,b3):\n",
    "    min_loss = 1000\n",
    "    limit_error = 300\n",
    "    b3_c,b3_xy0,b3_xy1 = b3.mean(0),[max(b3[:, 0]),max(b3[:, 1])],[min(b3[:, 0]),min(b3[:, 1])]\n",
    "\n",
    "    h = max(b3[:, 1]) - min(b3[:, 1])\n",
    "    w = max(b3[:, 0]) - min(b3[:, 0])\n",
    "    for b2 in b2s:\n",
    "        b2c = np.array([b2[0][2]+b2[0][0],b2[0][3]+b2[0][1]])/2\n",
    "        b2_xy0 = np.array([b2[0][0],b2[0][1]])\n",
    "        b2_xy1 = np.array(([b2[0][2],b2[0][3]]))\n",
    "        # b2_c = (b2_xy0+b2_xy1)/2\n",
    "        # w,h = b2_xy1[0] - b2_xy0[0],b2_xy1[1] - b2_xy0[1]\n",
    "        # w3,h3 = b3_xy1[0] - b3_xy0[0],b3_xy1[1] - b3_xy0[1]\n",
    "        loss = (abs((b3_xy0-b2_xy0)).mean()+abs((b3_xy1-b2_xy1)).mean())+np.square(b3_c-b2c).mean()\n",
    "        # print(loss,w,h)\n",
    "        if loss <min_loss and loss<limit_error:\n",
    "            min_loss = loss\n",
    "            bbox_2d =[b2_xy0,b2_xy1]\n",
    "    # print(min_loss)\n",
    "    if min_loss<limit_error:\n",
    "        return bbox_2d\n",
    "    return [b3_xy0,b3_xy1]\n",
    "\n",
    "class_map = {\"Car\":\"Car\",\"Pedestrian\":\"Pedestrian\",\"Truck\":\"Truck\",\n",
    "             \"Bus\":\"Bus\",\"Motorcycle\":\"Motorcyclist\",\"MotorcyleRider\":\"Motorcyclist\",\n",
    "             \"Bicycle\":\"Cyclist\",\"BicycleRider\":\"Cyclist\",\"Van\":\"Van\",\"Unknown\":\"Trafficcone\"} #,\"Van\":\"van\",\n",
    "\n",
    "\n",
    "def get_label(boxs_2d,boxs_3d):\n",
    "    # bboxs_3d.append([dim, location, rotation_y, box_2d[-1],class_name])\n",
    "    # col1 ： 类标签\n",
    "    # col5-8 ：2D bbox，左上和右下坐标\n",
    "    # col9-11 : 3D bbox dim 高、宽、长\n",
    "    # col12-14 ：3D bbox centor 坐标\n",
    "    # col15: 车体方向角\n",
    "    # print(boxs_2d)\n",
    "    labels = []\n",
    "    for box_3d in boxs_3d:\n",
    "\n",
    "        class_name = class_map[box_3d[4]]\n",
    "\n",
    "        bbox_from3d = box_3d[3]\n",
    "        [bbox_xy0,bbox_xy1] = compare_bbox(boxs_2d,bbox_from3d)\n",
    "        dim = box_3d[0]\n",
    "        location = [_[0] for _ in box_3d[1].tolist()]\n",
    "        rotation = box_3d[2]\n",
    "        label = [class_name,0,0,0,bbox_xy0[0],bbox_xy0[1],bbox_xy1[0],bbox_xy1[1]]+dim+location+[rotation]\n",
    "        labels.append(label)\n",
    "\n",
    "        # print(class_name)\n",
    "\n",
    "    return labels\n",
    "\n",
    "\n",
    "\n",
    "out_size = 400\n",
    "world_size = 80\n",
    "def project_3d_to_bird( pt):\n",
    "\n",
    "    pt[0] += world_size / 2\n",
    "    pt[1] = world_size - pt[1]\n",
    "    pt = pt * out_size / world_size\n",
    "    return pt.astype(np.int32)\n",
    "\n",
    "\n",
    "def showddd(imgs_path,calibs,objs,yolodete):\n",
    "    imgs = None\n",
    "    bird_views = None\n",
    "    labels_list = []\n",
    "    for cam in [\"left\", \"front\", \"right\"]:\n",
    "    # for cam in [\"left\"]:\n",
    "        bboxs_3d = []\n",
    "        img = cv2.imread(imgs_path[cam])\n",
    "        bird_view = np.ones((out_size, out_size, 3), dtype=np.uint8) * 230\n",
    "        # print(imgs_path[cam])\n",
    "        bbox_2d = yolodete.dect(imgs_path[cam])\n",
    "        # for bbox in bbox_2d:\n",
    "        #     # print(bbox)\n",
    "        #     if len(bbox)<1:\n",
    "        #         continue\n",
    "        #     xyxy = bbox[0]\n",
    "        #     # print((xyxy[0],xyxy[1]))\n",
    "        #     cv2.rectangle(img,(int(xyxy[0]),int(xyxy[1])),(int(xyxy[2]),int(xyxy[3])),(1,0,0),2)\n",
    "\n",
    "\n",
    "        for obj in objs:\n",
    "            [x, y, z, xs, ys, zs, r] = obj[\"box\"]\n",
    "            z -= zs/2\n",
    "            rotation_y = -r\n",
    "            if cam == \"front\":\n",
    "                rotation_y -= 1.57\n",
    "            dim = [zs, ys, xs]\n",
    "            class_name = obj[\"obj_type\"]\n",
    "\n",
    "            location = [x, y, z]\n",
    "            location = np.expand_dims(np.concatenate([location,np.ones(1)],0),1)\n",
    "            p = np.array(calibs[cam][\"extrinsic\"]).reshape((4,4))[:3]\n",
    "            location = np.dot(p, location)\n",
    "            # print(class_name, location.T)\n",
    "\n",
    "            calib = np.array(calibs[cam][\"intrinsic\"]).reshape((3,4))\n",
    "            box_3d = compute_box_3d(dim, location, rotation_y)\n",
    "            rect = box_3d[:4, [0, 2]]\n",
    "            for k in range(4):\n",
    "                rect[k] = project_3d_to_bird(rect[k])\n",
    "            lc = (250, 152, 12)\n",
    "            cv2.polylines(\n",
    "                bird_view, [rect.reshape(-1, 1, 2).astype(np.int32)],\n",
    "                True, lc, 2, lineType=cv2.LINE_AA)\n",
    "\n",
    "            if box_3d.mean(0)[2] <0:\n",
    "                continue\n",
    "            box_2d = project_to_image(box_3d, calib)\n",
    "            h = max(box_2d[:,1]) - min(box_2d[:,1])\n",
    "            w = max(box_2d[:,0]) - min(box_2d[:,0])\n",
    "            if abs(h) <10 or abs(w)<10  :\n",
    "                continue\n",
    "                # print(\"wh\",class_name,box_2d[0][0]-box_2d[7][0],box_2d[0][1]-box_2d[7][1])\n",
    "            if min(box_2d[-1])<-100 or box_2d[-1][0]>1400 or box_2d[-1][1]>900 :\n",
    "                continue\n",
    "            img = draw_box_3d(img, box_2d)\n",
    "\n",
    "            bboxs_3d.append([dim, location, rotation_y, box_2d,class_name])\n",
    "\n",
    "        labels = get_label(bbox_2d, bboxs_3d)\n",
    "\n",
    "        for l in labels:\n",
    "            bbox =l[4:8]\n",
    "            xyxy = bbox\n",
    "            # print((xyxy[0],xyxy[1]))\n",
    "            cv2.rectangle(img, (int(xyxy[0]), int(xyxy[1])), (int(xyxy[2]), int(xyxy[3])), (255, 255, 0), 2)\n",
    "\n",
    "        labels_list.append([labels,cam])\n",
    "        if show_image:\n",
    "            if cam==\"left\":\n",
    "                imgs = img\n",
    "            else:\n",
    "                imgs = np.hstack((imgs,img))\n",
    "\n",
    "            if cam==\"left\":\n",
    "                bird_views = bird_view\n",
    "            else:\n",
    "                bird_views = np.hstack((bird_views,bird_view))\n",
    "    if show_image:\n",
    "        imgs = cv2.resize(imgs,(imgs.shape[1]//2,imgs.shape[0]//2))\n",
    "        cv2.imshow(\"f\",imgs)\n",
    "        cv2.imshow(\"f2\",bird_views)\n",
    "        cv2.waitKey(1)\n",
    "    return labels_list\n"
   ],
   "metadata": {
    "collapsed": false,
    "pycharm": {
     "name": "#%%\n"
    }
   }
  }
 ],
 "metadata": {
  "kernelspec": {
   "display_name": "Python 3",
   "language": "python",
   "name": "python3"
  },
  "language_info": {
   "codemirror_mode": {
    "name": "ipython",
    "version": 2
   },
   "file_extension": ".py",
   "mimetype": "text/x-python",
   "name": "python",
   "nbconvert_exporter": "python",
   "pygments_lexer": "ipython2",
   "version": "2.7.6"
  }
 },
 "nbformat": 4,
 "nbformat_minor": 0
}