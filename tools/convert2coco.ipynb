{
 "cells": [
  {
   "cell_type": "code",
   "execution_count": 12,
   "metadata": {
    "collapsed": true
   },
   "outputs": [],
   "source": [
    "import os\n",
    "import random\n",
    "from tqdm import tqdm\n",
    "import numpy as np\n",
    "import cv2"
   ]
  },
  {
   "cell_type": "code",
   "execution_count": 13,
   "outputs": [],
   "source": [
    "split_train_val_test = [0.85,0.05,0.1]"
   ],
   "metadata": {
    "collapsed": false,
    "pycharm": {
     "name": "#%%\n"
    }
   }
  },
  {
   "cell_type": "code",
   "execution_count": 2,
   "outputs": [],
   "source": [],
   "metadata": {
    "collapsed": false,
    "pycharm": {
     "name": "#%%\n"
    }
   }
  },
  {
   "cell_type": "code",
   "execution_count": 14,
   "outputs": [],
   "source": [
    "\n",
    "# path = \"/media/fy/Data/DataSet/dataset/v2x_yolo/\"\n",
    "path = \"/media/fy/Data/DataSet/dataset/v2x_v/\"\n",
    "image_paths = os.listdir(path+\"images\")\n",
    "random.shuffle(image_paths)\n",
    "total_num = len(image_paths)\n",
    "\n",
    "split_train_val_test_num = [int(i*total_num) for i in split_train_val_test]\n",
    "\n",
    "train_list = image_paths[:split_train_val_test_num[0]]\n",
    "val_list = image_paths[split_train_val_test_num[0]:-split_train_val_test_num[2]]\n",
    "test_list = image_paths[-split_train_val_test_num[2]:]\n"
   ],
   "metadata": {
    "collapsed": false,
    "pycharm": {
     "name": "#%%\n"
    }
   }
  },
  {
   "cell_type": "code",
   "execution_count": 15,
   "outputs": [
    {
     "name": "stdout",
     "output_type": "stream",
     "text": [
      "total_num 15285\n",
      "12992\n",
      "765\n",
      "1528\n"
     ]
    }
   ],
   "source": [
    "print(\"total_num\",total_num)\n",
    "print(len(train_list))\n",
    "print(len(val_list))\n",
    "print(len(test_list))\n"
   ],
   "metadata": {
    "collapsed": false,
    "pycharm": {
     "name": "#%%\n"
    }
   }
  },
  {
   "cell_type": "code",
   "execution_count": 16,
   "outputs": [],
   "source": [
    "with open(path + \"./train.txt\",\"w\") as f:\n",
    "    for p in train_list[:-1]:\n",
    "        f.writelines(\"./images/\"+p+\"\\n\")\n",
    "    f.writelines(\"./images/\"+train_list[-1])\n",
    "\n",
    "with open(path + \"./val.txt\",\"w\") as f:\n",
    "    for p in val_list[:-1]:\n",
    "        f.writelines(\"./images/\"+p+\"\\n\")\n",
    "    f.writelines(\"./images/\"+val_list[-1])\n",
    "\n",
    "with open(path + \"./test.txt\",\"w\") as f:\n",
    "    for p in test_list[:-1]:\n",
    "        f.writelines(\"./images/\"+p+\"\\n\")\n",
    "    f.writelines(\"./images/\"+test_list[-1])"
   ],
   "metadata": {
    "collapsed": false,
    "pycharm": {
     "name": "#%%\n"
    }
   }
  },
  {
   "cell_type": "code",
   "execution_count": 17,
   "outputs": [],
   "source": [
    "from ddd_utils import compute_box_3d, project_to_image, alpha2rot_y,rot_y2alpha\n",
    "from ddd_utils import draw_box_3d, unproject_2d_to_3d"
   ],
   "metadata": {
    "collapsed": false,
    "pycharm": {
     "name": "#%%\n"
    }
   }
  },
  {
   "cell_type": "code",
   "execution_count": 18,
   "outputs": [
    {
     "data": {
      "text/plain": "False"
     },
     "execution_count": 18,
     "metadata": {},
     "output_type": "execute_result"
    }
   ],
   "source": [
    "os.path.exists(path+\"labels_old/\")"
   ],
   "metadata": {
    "collapsed": false,
    "pycharm": {
     "name": "#%%\n"
    }
   }
  },
  {
   "cell_type": "code",
   "execution_count": 21,
   "outputs": [
    {
     "name": "stderr",
     "output_type": "stream",
     "text": [
      "100%|██████████| 15286/15286 [00:11<00:00, 1307.91it/s]"
     ]
    },
    {
     "name": "stdout",
     "output_type": "stream",
     "text": [
      "{0, 1, 2, 3, 4, 5, 6, 7, 9}\n"
     ]
    },
    {
     "name": "stderr",
     "output_type": "stream",
     "text": [
      "\n"
     ]
    }
   ],
   "source": [
    "label_dir = path+\"labels/\"\n",
    "if not os.path.exists(path+\"labels_old/\"):\n",
    "    os.system(\"mv {} {}; mkdir {}\".format(label_dir,path+\"labels_old/\",label_dir))\n",
    "label_dir = path+\"labels_old/\"\n",
    "label_paths = os.listdir(label_dir)\n",
    "\n",
    "bar = tqdm(label_paths)\n",
    "DEBUG = False #True False\n",
    "\n",
    "\n",
    "calib = np.array([[2186.359688 ,0.0, 968.712906, 0.0],\n",
    "               [ 0.0, 2332.160319, 542.356703 ,0.0] ,\n",
    "               [0.0 ,0.0, 1.0, 0]])\n",
    "\n",
    "class_set = set()\n",
    "\n",
    "for label_p in bar:\n",
    "    labels = open(label_dir + label_p).readlines()\n",
    "    image = (cv2.imread((label_dir + label_p).replace(\"txt\",\"jpg\").replace(\"labels_old\",\"images\"))) if DEBUG else None\n",
    "\n",
    "    new_labels_path = (label_dir + label_p).replace(\"labels_old\",\"labels\")\n",
    "    new_labels_file = open(new_labels_path,\"w\")\n",
    "    for label in labels:\n",
    "        tmp = label[:-1].split(' ')\n",
    "        cat_id = int(tmp[0])\n",
    "        truncated = int(float(tmp[1]))\n",
    "        occluded = int(tmp[2])\n",
    "        alpha = float(tmp[3])\n",
    "        bbox = [float(tmp[4]), float(tmp[5]), float(tmp[6]), float(tmp[7])]\n",
    "        dim = [float(tmp[8]), float(tmp[9]), float(tmp[10])]\n",
    "        location = [float(tmp[11]), float(tmp[12]), float(tmp[13])]\n",
    "        rotation_y = float(tmp[14])\n",
    "\n",
    "        class_set.add(cat_id)\n",
    "\n",
    "        # 计算 alpla\n",
    "        x = (bbox[0] + bbox[2]) / 2\n",
    "        alpha = rot_y2alpha(rotation_y, x, calib[0, 2], calib[0, 0])\n",
    "        new_label = [cat_id]+bbox +location+ dim + [alpha]\n",
    "        new_label_txt = \"\"\n",
    "        for i in new_label:\n",
    "            t = str(i) if type(i)==int else \"{:.4f}\".format(i)\n",
    "            new_label_txt += t\n",
    "            if not i is new_label[-1]:\n",
    "                new_label_txt+= \" \"\n",
    "\n",
    "        new_labels_file.writelines(new_label_txt)\n",
    "        # print(new_label_txt)\n",
    "        if not label is labels[-1]:\n",
    "            new_labels_file.writelines(\"\\n\")\n",
    "\n",
    "\n",
    "        if DEBUG:\n",
    "            x = (bbox[0] + bbox[2]) / 2\n",
    "            box_3d = compute_box_3d(dim, location, rotation_y)\n",
    "            box_2d = project_to_image(box_3d, calib)\n",
    "            image = draw_box_3d(image, box_2d)\n",
    "            depth = np.array([location[2]], dtype=np.float32)\n",
    "            pt_2d = np.array([(bbox[0] + bbox[2]) / 2, (bbox[1] + bbox[3]) / 2],\n",
    "                             dtype=np.float32)\n",
    "            pt_3d = unproject_2d_to_3d(pt_2d, depth, calib)\n",
    "            pt_3d[1] += dim[0] / 2\n",
    "\n",
    "    if DEBUG:\n",
    "        # from  matplotlib import pyplot as plt\n",
    "        # plt.imshow(image)\n",
    "        # plt.show()\n",
    "\n",
    "        cv2.imshow('image', image)\n",
    "        k = cv2.waitKey(1)\n",
    "        if k==0:\n",
    "            break\n",
    "\n",
    "\n",
    "print(class_set)"
   ],
   "metadata": {
    "collapsed": false,
    "pycharm": {
     "name": "#%%\n"
    }
   }
  },
  {
   "cell_type": "code",
   "execution_count": 54,
   "outputs": [],
   "source": [],
   "metadata": {
    "collapsed": false,
    "pycharm": {
     "name": "#%%\n"
    }
   }
  },
  {
   "cell_type": "code",
   "execution_count": 2,
   "outputs": [],
   "source": [],
   "metadata": {
    "collapsed": false,
    "pycharm": {
     "name": "#%%\n"
    }
   }
  },
  {
   "cell_type": "code",
   "execution_count": null,
   "outputs": [],
   "source": [],
   "metadata": {
    "collapsed": false,
    "pycharm": {
     "name": "#%%\n"
    }
   }
  },
  {
   "cell_type": "code",
   "execution_count": null,
   "outputs": [],
   "source": [],
   "metadata": {
    "collapsed": false,
    "pycharm": {
     "name": "#%%\n"
    }
   }
  },
  {
   "cell_type": "code",
   "execution_count": null,
   "outputs": [],
   "source": [],
   "metadata": {
    "collapsed": false,
    "pycharm": {
     "name": "#%%\n"
    }
   }
  },
  {
   "cell_type": "code",
   "execution_count": null,
   "outputs": [],
   "source": [],
   "metadata": {
    "collapsed": false,
    "pycharm": {
     "name": "#%%\n"
    }
   }
  },
  {
   "cell_type": "code",
   "execution_count": 2,
   "outputs": [],
   "source": [
    "import numpy as np"
   ],
   "metadata": {
    "collapsed": false,
    "pycharm": {
     "name": "#%%\n"
    }
   }
  },
  {
   "cell_type": "code",
   "execution_count": 3,
   "outputs": [],
   "source": [
    "def sigmoid(x):\n",
    "    return 1.0/(1+np.exp(-x))"
   ],
   "metadata": {
    "collapsed": false,
    "pycharm": {
     "name": "#%%\n"
    }
   }
  },
  {
   "cell_type": "code",
   "execution_count": 13,
   "outputs": [
    {
     "name": "stdout",
     "output_type": "stream",
     "text": [
      "1.338570184856971 -5.0\n",
      "1.4783082688563942 -4.9\n",
      "1.6325142306319793 -4.8\n",
      "1.8026597305695662 -4.699999999999999\n",
      "1.9903603733808635 -4.6000000000000005\n",
      "2.197388526118636 -4.5\n",
      "2.4256869968548473 -4.4\n",
      "2.677383565532956 -4.3\n",
      "2.954806338654611 -4.2\n",
      "3.260499874288186 -4.1000000000000005\n",
      "3.597241992418312 -4.0\n",
      "3.9680611468155007 -3.9000000000000004\n",
      "4.376254187226095 -3.8\n",
      "4.825404283533839 -3.7\n",
      "5.319398715373173 -3.5999999999999996\n",
      "5.862446150271264 -3.5\n",
      "6.459092939690106 -3.3999999999999995\n",
      "7.114237854527236 -3.3\n",
      "7.8331445593528715 -3.2\n",
      "8.621450988217223 -3.1\n",
      "9.485174635513356 -3.0\n",
      "10.430712615683543 -2.9000000000000004\n",
      "11.464835179773745 -2.8000000000000003\n",
      "12.594671211399296 -2.7\n",
      "13.827684068669363 -2.6\n",
      "15.17163600424871 -2.5\n",
      "16.634539298784475 -2.4\n",
      "18.22459220297123 -2.3\n",
      "19.950097823937035 -2.1999999999999997\n",
      "21.819364239122585 -2.1\n",
      "23.84058440442351 -2.0\n",
      "26.02169487259957 -1.9\n",
      "28.370212980097563 -1.7999999999999998\n",
      "30.89305301670695 -1.6999999999999997\n",
      "33.596322973215116 -1.5999999999999996\n",
      "36.485104761271266 -1.5000000000000002\n",
      "39.56322228828365 -1.4000000000000001\n",
      "42.833003391488276 -1.3\n",
      "46.295043300196475 -1.2\n",
      "49.94797888097649 -1.0999999999999999\n",
      "53.78828427399903 -0.9999999999999998\n",
      "57.8100994749992 -0.9000000000000002\n",
      "62.00510377447751 -0.8000000000000002\n",
      "66.36244556636677 -0.7000000000000001\n",
      "70.8687387548409 -0.6\n",
      "75.50813375962908 -0.4999999999999999\n",
      "80.2624679775096 -0.3999999999999998\n",
      "85.11149663766818 -0.30000000000000027\n",
      "90.03320053750441 -0.20000000000000018\n",
      "95.00416250421199 -0.10000000000000009\n",
      "100.0 0.0\n",
      "104.99583749578801 0.10000000000000009\n",
      "109.96679946249559 0.20000000000000018\n",
      "114.8885033623318 0.30000000000000027\n",
      "119.73753202249043 0.40000000000000036\n",
      "124.49186624037094 0.5000000000000004\n",
      "129.13126124515912 0.6000000000000005\n",
      "133.6375544336332 0.6999999999999995\n",
      "137.99489622552247 0.7999999999999996\n",
      "142.18990052500078 0.8999999999999997\n",
      "146.211715726001 0.9999999999999998\n",
      "150.05202111902355 1.0999999999999999\n",
      "153.70495669980352 1.2\n",
      "157.1669966085117 1.3\n",
      "160.43677771171636 1.4000000000000001\n",
      "163.51489523872874 1.5000000000000002\n",
      "166.40367702678492 1.6000000000000003\n",
      "169.10694698329308 1.7000000000000004\n",
      "171.62978701990247 1.8000000000000005\n",
      "173.97830512740043 1.8999999999999995\n",
      "176.15941559557646 1.9999999999999996\n",
      "178.1806357608774 2.0999999999999996\n",
      "180.04990217606297 2.1999999999999997\n",
      "181.77540779702878 2.3\n",
      "183.36546070121554 2.4\n",
      "184.82836399575132 2.5\n",
      "186.17231593133064 2.6\n",
      "187.4053287886007 2.7\n",
      "188.53516482022624 2.8000000000000003\n",
      "189.56928738431645 2.9000000000000004\n",
      "190.51482536448668 3.0000000000000004\n",
      "191.37854901178278 3.1000000000000005\n",
      "192.16685544064714 3.1999999999999993\n",
      "192.88576214547277 3.3\n",
      "193.54090706030988 3.3999999999999995\n",
      "194.13755384972873 3.5\n",
      "194.68060128462682 3.5999999999999996\n",
      "195.17459571646617 3.7\n",
      "195.62374581277388 3.8\n",
      "196.0319388531845 3.9000000000000004\n",
      "196.4027580075817 4.0\n",
      "196.73950012571183 4.1000000000000005\n",
      "197.0451936613454 4.2\n",
      "197.32261643446702 4.300000000000001\n",
      "197.57431300314514 4.3999999999999995\n",
      "197.80261147388137 4.5\n",
      "198.00963962661916 4.6\n",
      "198.1973402694304 4.699999999999999\n",
      "198.36748576936802 4.8\n",
      "198.52169173114362 4.9\n"
     ]
    }
   ],
   "source": [
    "for i in range(100):\n",
    "    t = i/100-0.5\n",
    "    t *=10\n",
    "    print(sigmoid(t)*200,t)"
   ],
   "metadata": {
    "collapsed": false,
    "pycharm": {
     "name": "#%%\n"
    }
   }
  },
  {
   "cell_type": "markdown",
   "source": [],
   "metadata": {
    "collapsed": false,
    "pycharm": {
     "name": "#%% md\n"
    }
   }
  },
  {
   "cell_type": "code",
   "execution_count": 21,
   "outputs": [],
   "source": [],
   "metadata": {
    "collapsed": false,
    "pycharm": {
     "name": "#%%\n"
    }
   }
  },
  {
   "cell_type": "code",
   "execution_count": 50,
   "outputs": [],
   "source": [],
   "metadata": {
    "collapsed": false,
    "pycharm": {
     "name": "#%%\n"
    }
   }
  },
  {
   "cell_type": "code",
   "execution_count": null,
   "outputs": [],
   "source": [],
   "metadata": {
    "collapsed": false,
    "pycharm": {
     "name": "#%%\n"
    }
   }
  }
 ],
 "metadata": {
  "kernelspec": {
   "display_name": "Python 3",
   "language": "python",
   "name": "python3"
  },
  "language_info": {
   "codemirror_mode": {
    "name": "ipython",
    "version": 2
   },
   "file_extension": ".py",
   "mimetype": "text/x-python",
   "name": "python",
   "nbconvert_exporter": "python",
   "pygments_lexer": "ipython2",
   "version": "2.7.6"
  }
 },
 "nbformat": 4,
 "nbformat_minor": 0
}